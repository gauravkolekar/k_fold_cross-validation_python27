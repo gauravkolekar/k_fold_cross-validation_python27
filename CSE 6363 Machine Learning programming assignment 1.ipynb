{
 "cells": [
  {
   "cell_type": "markdown",
   "metadata": {},
   "source": [
    "# Programming Assignment 1"
   ]
  },
  {
   "cell_type": "markdown",
   "metadata": {},
   "source": [
    "## Import Pandas"
   ]
  },
  {
   "cell_type": "code",
   "execution_count": 1,
   "metadata": {
    "collapsed": true
   },
   "outputs": [],
   "source": [
    "import pandas as pd\n",
    "import numpy as np"
   ]
  },
  {
   "cell_type": "markdown",
   "metadata": {},
   "source": [
    "## Ask user for filename"
   ]
  },
  {
   "cell_type": "code",
   "execution_count": 2,
   "metadata": {
    "collapsed": false
   },
   "outputs": [
    {
     "name": "stdout",
     "output_type": "stream",
     "text": [
      "Enter CSV file name: ecoli.csv\n"
     ]
    }
   ],
   "source": [
    "filename = raw_input('Enter CSV file name: ')\n",
    "# filename = 'ecoli.csv'"
   ]
  },
  {
   "cell_type": "markdown",
   "metadata": {},
   "source": [
    "## Read CSV"
   ]
  },
  {
   "cell_type": "code",
   "execution_count": 3,
   "metadata": {
    "collapsed": false
   },
   "outputs": [
    {
     "name": "stdout",
     "output_type": "stream",
     "text": [
      "file read...\n"
     ]
    }
   ],
   "source": [
    "complete_data = pd.read_csv(filename)\n",
    "print 'file read...'"
   ]
  },
  {
   "cell_type": "markdown",
   "metadata": {},
   "source": [
    "## Get attributes names and class attribute"
   ]
  },
  {
   "cell_type": "code",
   "execution_count": 4,
   "metadata": {
    "collapsed": false
   },
   "outputs": [
    {
     "data": {
      "text/plain": [
       "['mcg', 'gvh', 'lip', 'chg', 'aac', 'alm1', 'alm2', 'locsite']"
      ]
     },
     "execution_count": 4,
     "metadata": {},
     "output_type": "execute_result"
    }
   ],
   "source": [
    "data_header = list(complete_data.columns.values)\n",
    "data_header"
   ]
  },
  {
   "cell_type": "markdown",
   "metadata": {},
   "source": [
    "## data structure to store the 1 to n examples"
   ]
  },
  {
   "cell_type": "code",
   "execution_count": 5,
   "metadata": {
    "collapsed": false
   },
   "outputs": [
    {
     "name": "stdout",
     "output_type": "stream",
     "text": [
      "      mcg   gvh   lip  chg   aac  alm1  alm2 locsite\n",
      "0    0.49  0.29  0.48  0.5  0.56  0.24  0.35      cp\n",
      "1    0.07  0.40  0.48  0.5  0.54  0.35  0.44      cp\n",
      "2    0.56  0.40  0.48  0.5  0.49  0.37  0.46      cp\n",
      "3    0.59  0.49  0.48  0.5  0.52  0.45  0.36      cp\n",
      "4    0.23  0.32  0.48  0.5  0.55  0.25  0.35      cp\n",
      "5    0.67  0.39  0.48  0.5  0.36  0.38  0.46      cp\n",
      "6    0.29  0.28  0.48  0.5  0.44  0.23  0.34      cp\n",
      "7    0.21  0.34  0.48  0.5  0.51  0.28  0.39      cp\n",
      "8    0.20  0.44  0.48  0.5  0.46  0.51  0.57      cp\n",
      "9    0.42  0.40  0.48  0.5  0.56  0.18  0.30      cp\n",
      "10   0.42  0.24  0.48  0.5  0.57  0.27  0.37      cp\n",
      "11   0.25  0.48  0.48  0.5  0.44  0.17  0.29      cp\n",
      "12   0.39  0.32  0.48  0.5  0.46  0.24  0.35      cp\n",
      "13   0.51  0.50  0.48  0.5  0.46  0.32  0.35      cp\n",
      "14   0.22  0.43  0.48  0.5  0.48  0.16  0.28      cp\n",
      "15   0.25  0.40  0.48  0.5  0.46  0.44  0.52      cp\n",
      "16   0.34  0.45  0.48  0.5  0.38  0.24  0.35      cp\n",
      "17   0.44  0.27  0.48  0.5  0.55  0.52  0.58      cp\n",
      "18   0.23  0.40  0.48  0.5  0.39  0.28  0.38      cp\n",
      "19   0.41  0.57  0.48  0.5  0.39  0.21  0.32      cp\n",
      "20   0.40  0.45  0.48  0.5  0.38  0.22  0.00      cp\n",
      "21   0.31  0.23  0.48  0.5  0.73  0.05  0.14      cp\n",
      "22   0.51  0.54  0.48  0.5  0.41  0.34  0.43      cp\n",
      "23   0.30  0.16  0.48  0.5  0.56  0.11  0.23      cp\n",
      "24   0.36  0.39  0.48  0.5  0.48  0.22  0.23      cp\n",
      "25   0.29  0.37  0.48  0.5  0.48  0.44  0.52      cp\n",
      "26   0.25  0.40  0.48  0.5  0.47  0.33  0.42      cp\n",
      "27   0.21  0.51  0.48  0.5  0.50  0.32  0.41      cp\n",
      "28   0.43  0.37  0.48  0.5  0.53  0.35  0.44      cp\n",
      "29   0.43  0.39  0.48  0.5  0.47  0.31  0.41      cp\n",
      "..    ...   ...   ...  ...   ...   ...   ...     ...\n",
      "306  0.63  0.71  0.48  0.5  0.60  0.40  0.39      pp\n",
      "307  0.71  0.86  0.48  0.5  0.40  0.54  0.32      pp\n",
      "308  0.68  0.78  0.48  0.5  0.43  0.44  0.42      pp\n",
      "309  0.64  0.84  0.48  0.5  0.37  0.45  0.40      pp\n",
      "310  0.74  0.47  0.48  0.5  0.50  0.57  0.42      pp\n",
      "311  0.75  0.84  0.48  0.5  0.35  0.52  0.33      pp\n",
      "312  0.63  0.65  0.48  0.5  0.39  0.44  0.35      pp\n",
      "313  0.69  0.67  0.48  0.5  0.30  0.39  0.24      pp\n",
      "314  0.70  0.71  0.48  0.5  0.42  0.84  0.85      pp\n",
      "315  0.69  0.80  0.48  0.5  0.46  0.57  0.26      pp\n",
      "316  0.64  0.66  0.48  0.5  0.41  0.39  0.20      pp\n",
      "317  0.63  0.80  0.48  0.5  0.46  0.31  0.29      pp\n",
      "318  0.66  0.71  0.48  0.5  0.41  0.50  0.35      pp\n",
      "319  0.69  0.59  0.48  0.5  0.46  0.44  0.52      pp\n",
      "320  0.68  0.67  0.48  0.5  0.49  0.40  0.34      pp\n",
      "321  0.64  0.78  0.48  0.5  0.50  0.36  0.38      pp\n",
      "322  0.62  0.78  0.48  0.5  0.47  0.49  0.54      pp\n",
      "323  0.76  0.73  0.48  0.5  0.44  0.39  0.39      pp\n",
      "324  0.64  0.81  0.48  0.5  0.37  0.39  0.44      pp\n",
      "325  0.29  0.39  0.48  0.5  0.52  0.40  0.48      pp\n",
      "326  0.62  0.83  0.48  0.5  0.46  0.36  0.40      pp\n",
      "327  0.56  0.54  0.48  0.5  0.43  0.37  0.30      pp\n",
      "328  0.69  0.66  0.48  0.5  0.41  0.50  0.25      pp\n",
      "329  0.69  0.65  0.48  0.5  0.63  0.48  0.41      pp\n",
      "330  0.43  0.59  0.48  0.5  0.52  0.49  0.56      pp\n",
      "331  0.74  0.56  0.48  0.5  0.47  0.68  0.30      pp\n",
      "332  0.71  0.57  0.48  0.5  0.48  0.35  0.32      pp\n",
      "333  0.61  0.60  0.48  0.5  0.44  0.39  0.38      pp\n",
      "334  0.59  0.61  0.48  0.5  0.42  0.42  0.37      pp\n",
      "335  0.74  0.74  0.48  0.5  0.31  0.53  0.52      pp\n",
      "\n",
      "[336 rows x 8 columns]\n"
     ]
    }
   ],
   "source": [
    "data = complete_data.iloc[0:, :]\n",
    "print data"
   ]
  },
  {
   "cell_type": "markdown",
   "metadata": {},
   "source": [
    "## data structure to store the 1 to n class of the examples"
   ]
  },
  {
   "cell_type": "code",
   "execution_count": 6,
   "metadata": {
    "collapsed": false
   },
   "outputs": [
    {
     "name": "stdout",
     "output_type": "stream",
     "text": [
      "0      cp\n",
      "1      cp\n",
      "2      cp\n",
      "3      cp\n",
      "4      cp\n",
      "5      cp\n",
      "6      cp\n",
      "7      cp\n",
      "8      cp\n",
      "9      cp\n",
      "10     cp\n",
      "11     cp\n",
      "12     cp\n",
      "13     cp\n",
      "14     cp\n",
      "15     cp\n",
      "16     cp\n",
      "17     cp\n",
      "18     cp\n",
      "19     cp\n",
      "20     cp\n",
      "21     cp\n",
      "22     cp\n",
      "23     cp\n",
      "24     cp\n",
      "25     cp\n",
      "26     cp\n",
      "27     cp\n",
      "28     cp\n",
      "29     cp\n",
      "       ..\n",
      "306    pp\n",
      "307    pp\n",
      "308    pp\n",
      "309    pp\n",
      "310    pp\n",
      "311    pp\n",
      "312    pp\n",
      "313    pp\n",
      "314    pp\n",
      "315    pp\n",
      "316    pp\n",
      "317    pp\n",
      "318    pp\n",
      "319    pp\n",
      "320    pp\n",
      "321    pp\n",
      "322    pp\n",
      "323    pp\n",
      "324    pp\n",
      "325    pp\n",
      "326    pp\n",
      "327    pp\n",
      "328    pp\n",
      "329    pp\n",
      "330    pp\n",
      "331    pp\n",
      "332    pp\n",
      "333    pp\n",
      "334    pp\n",
      "335    pp\n",
      "Name: locsite, dtype: object\n"
     ]
    }
   ],
   "source": [
    "class_of_data = complete_data.iloc[0:, -1]\n",
    "print class_of_data"
   ]
  },
  {
   "cell_type": "markdown",
   "metadata": {},
   "source": [
    "## Normalize the data\n",
    "\n",
    "A process to normalize the data with values between 0 and 1. For this you need to know the maximum and minimum values of each of the attributes and then re-compute the value of the attributes as: newValue = (value - minValue) / (maxValue - minValue)"
   ]
  },
  {
   "cell_type": "markdown",
   "metadata": {},
   "source": [
    "### Get max column value and get min column value"
   ]
  },
  {
   "cell_type": "code",
   "execution_count": 7,
   "metadata": {
    "collapsed": false
   },
   "outputs": [],
   "source": [
    "def get_max_col_value(column):\n",
    "    return column.max(axis=0)\n",
    "\n",
    "def get_min_col_value(column):\n",
    "    return column.min(axis=0)"
   ]
  },
  {
   "cell_type": "markdown",
   "metadata": {},
   "source": [
    "### Function to normalize the data"
   ]
  },
  {
   "cell_type": "code",
   "execution_count": 8,
   "metadata": {
    "collapsed": true
   },
   "outputs": [],
   "source": [
    "def data_normalizer(data_point, max_value, min_value):\n",
    "    new_value = (data_point - min_value)/(max_value - min_value)\n",
    "    return new_value"
   ]
  },
  {
   "cell_type": "markdown",
   "metadata": {},
   "source": [
    "### Loop to normalize all the data"
   ]
  },
  {
   "cell_type": "code",
   "execution_count": 9,
   "metadata": {
    "collapsed": false
   },
   "outputs": [],
   "source": [
    "for column_number in range(0, data.shape[1]-1):\n",
    "    max_value = get_max_col_value(data.iloc[0:,column_number])\n",
    "    min_value = get_min_col_value(data.iloc[0:,column_number])\n",
    "    data.iloc[:,column_number] = data.iloc[:,column_number].apply(data_normalizer, args=(max_value, min_value))"
   ]
  },
  {
   "cell_type": "code",
   "execution_count": 10,
   "metadata": {
    "collapsed": false
   },
   "outputs": [
    {
     "name": "stdout",
     "output_type": "stream",
     "text": [
      "          mcg       gvh  lip  chg       aac      alm1      alm2 locsite\n",
      "0    0.550562  0.154762  0.0  0.0  0.636364  0.216495  0.353535      cp\n",
      "1    0.078652  0.285714  0.0  0.0  0.613636  0.329897  0.444444      cp\n",
      "2    0.629213  0.285714  0.0  0.0  0.556818  0.350515  0.464646      cp\n",
      "3    0.662921  0.392857  0.0  0.0  0.590909  0.432990  0.363636      cp\n",
      "4    0.258427  0.190476  0.0  0.0  0.625000  0.226804  0.353535      cp\n",
      "5    0.752809  0.273810  0.0  0.0  0.409091  0.360825  0.464646      cp\n",
      "6    0.325843  0.142857  0.0  0.0  0.500000  0.206186  0.343434      cp\n",
      "7    0.235955  0.214286  0.0  0.0  0.579545  0.257732  0.393939      cp\n",
      "8    0.224719  0.333333  0.0  0.0  0.522727  0.494845  0.575758      cp\n",
      "9    0.471910  0.285714  0.0  0.0  0.636364  0.154639  0.303030      cp\n",
      "10   0.471910  0.095238  0.0  0.0  0.647727  0.247423  0.373737      cp\n",
      "11   0.280899  0.380952  0.0  0.0  0.500000  0.144330  0.292929      cp\n",
      "12   0.438202  0.190476  0.0  0.0  0.522727  0.216495  0.353535      cp\n",
      "13   0.573034  0.404762  0.0  0.0  0.522727  0.298969  0.353535      cp\n",
      "14   0.247191  0.321429  0.0  0.0  0.545455  0.134021  0.282828      cp\n",
      "15   0.280899  0.285714  0.0  0.0  0.522727  0.422680  0.525253      cp\n",
      "16   0.382022  0.345238  0.0  0.0  0.431818  0.216495  0.353535      cp\n",
      "17   0.494382  0.130952  0.0  0.0  0.625000  0.505155  0.585859      cp\n",
      "18   0.258427  0.285714  0.0  0.0  0.443182  0.257732  0.383838      cp\n",
      "19   0.460674  0.488095  0.0  0.0  0.443182  0.185567  0.323232      cp\n",
      "20   0.449438  0.345238  0.0  0.0  0.431818  0.195876  0.000000      cp\n",
      "21   0.348315  0.083333  0.0  0.0  0.829545  0.020619  0.141414      cp\n",
      "22   0.573034  0.452381  0.0  0.0  0.465909  0.319588  0.434343      cp\n",
      "23   0.337079  0.000000  0.0  0.0  0.636364  0.082474  0.232323      cp\n",
      "24   0.404494  0.273810  0.0  0.0  0.545455  0.195876  0.232323      cp\n",
      "25   0.325843  0.250000  0.0  0.0  0.545455  0.422680  0.525253      cp\n",
      "26   0.280899  0.285714  0.0  0.0  0.534091  0.309278  0.424242      cp\n",
      "27   0.235955  0.416667  0.0  0.0  0.568182  0.298969  0.414141      cp\n",
      "28   0.483146  0.250000  0.0  0.0  0.602273  0.329897  0.444444      cp\n",
      "29   0.483146  0.273810  0.0  0.0  0.534091  0.288660  0.414141      cp\n",
      "..        ...       ...  ...  ...       ...       ...       ...     ...\n",
      "306  0.707865  0.654762  0.0  0.0  0.681818  0.381443  0.393939      pp\n",
      "307  0.797753  0.833333  0.0  0.0  0.454545  0.525773  0.323232      pp\n",
      "308  0.764045  0.738095  0.0  0.0  0.488636  0.422680  0.424242      pp\n",
      "309  0.719101  0.809524  0.0  0.0  0.420455  0.432990  0.404040      pp\n",
      "310  0.831461  0.369048  0.0  0.0  0.568182  0.556701  0.424242      pp\n",
      "311  0.842697  0.809524  0.0  0.0  0.397727  0.505155  0.333333      pp\n",
      "312  0.707865  0.583333  0.0  0.0  0.443182  0.422680  0.353535      pp\n",
      "313  0.775281  0.607143  0.0  0.0  0.340909  0.371134  0.242424      pp\n",
      "314  0.786517  0.654762  0.0  0.0  0.477273  0.835052  0.858586      pp\n",
      "315  0.775281  0.761905  0.0  0.0  0.522727  0.556701  0.262626      pp\n",
      "316  0.719101  0.595238  0.0  0.0  0.465909  0.371134  0.202020      pp\n",
      "317  0.707865  0.761905  0.0  0.0  0.522727  0.288660  0.292929      pp\n",
      "318  0.741573  0.654762  0.0  0.0  0.465909  0.484536  0.353535      pp\n",
      "319  0.775281  0.511905  0.0  0.0  0.522727  0.422680  0.525253      pp\n",
      "320  0.764045  0.607143  0.0  0.0  0.556818  0.381443  0.343434      pp\n",
      "321  0.719101  0.738095  0.0  0.0  0.568182  0.340206  0.383838      pp\n",
      "322  0.696629  0.738095  0.0  0.0  0.534091  0.474227  0.545455      pp\n",
      "323  0.853933  0.678571  0.0  0.0  0.500000  0.371134  0.393939      pp\n",
      "324  0.719101  0.773810  0.0  0.0  0.420455  0.371134  0.444444      pp\n",
      "325  0.325843  0.273810  0.0  0.0  0.590909  0.381443  0.484848      pp\n",
      "326  0.696629  0.797619  0.0  0.0  0.522727  0.340206  0.404040      pp\n",
      "327  0.629213  0.452381  0.0  0.0  0.488636  0.350515  0.303030      pp\n",
      "328  0.775281  0.595238  0.0  0.0  0.465909  0.484536  0.252525      pp\n",
      "329  0.775281  0.583333  0.0  0.0  0.715909  0.463918  0.414141      pp\n",
      "330  0.483146  0.511905  0.0  0.0  0.590909  0.474227  0.565657      pp\n",
      "331  0.831461  0.476190  0.0  0.0  0.534091  0.670103  0.303030      pp\n",
      "332  0.797753  0.488095  0.0  0.0  0.545455  0.329897  0.323232      pp\n",
      "333  0.685393  0.523810  0.0  0.0  0.500000  0.371134  0.383838      pp\n",
      "334  0.662921  0.535714  0.0  0.0  0.477273  0.402062  0.373737      pp\n",
      "335  0.831461  0.690476  0.0  0.0  0.352273  0.515464  0.525253      pp\n",
      "\n",
      "[336 rows x 8 columns]\n"
     ]
    }
   ],
   "source": [
    "print data"
   ]
  },
  {
   "cell_type": "markdown",
   "metadata": {},
   "source": [
    "## K Fold Cross Validation"
   ]
  },
  {
   "cell_type": "markdown",
   "metadata": {},
   "source": [
    "### Getting the value of K from the user"
   ]
  },
  {
   "cell_type": "code",
   "execution_count": 11,
   "metadata": {
    "collapsed": false
   },
   "outputs": [
    {
     "name": "stdout",
     "output_type": "stream",
     "text": [
      "Please enter the value for folds:7\n",
      "You entered:  7\n"
     ]
    }
   ],
   "source": [
    "k_folds = int(raw_input('Please enter the value for folds:'))\n",
    "print 'You entered: ', k_folds"
   ]
  },
  {
   "cell_type": "markdown",
   "metadata": {},
   "source": [
    "### Find out number of examples"
   ]
  },
  {
   "cell_type": "code",
   "execution_count": 12,
   "metadata": {
    "collapsed": false
   },
   "outputs": [
    {
     "name": "stdout",
     "output_type": "stream",
     "text": [
      "336\n"
     ]
    }
   ],
   "source": [
    "number_of_examples = data.shape\n",
    "print number_of_examples[0]"
   ]
  },
  {
   "cell_type": "markdown",
   "metadata": {},
   "source": [
    "### Calculating number of examples per partition"
   ]
  },
  {
   "cell_type": "code",
   "execution_count": 13,
   "metadata": {
    "collapsed": false
   },
   "outputs": [
    {
     "name": "stdout",
     "output_type": "stream",
     "text": [
      "48\n"
     ]
    }
   ],
   "source": [
    "number_of_examples_in_one_partition = number_of_examples[0] / k_folds\n",
    "print number_of_examples_in_one_partition"
   ]
  },
  {
   "cell_type": "markdown",
   "metadata": {},
   "source": [
    "### Finding if there are gonna be unevenly distributed examples in any of the partition"
   ]
  },
  {
   "cell_type": "code",
   "execution_count": 14,
   "metadata": {
    "collapsed": false
   },
   "outputs": [
    {
     "name": "stdout",
     "output_type": "stream",
     "text": [
      "0\n"
     ]
    }
   ],
   "source": [
    "remainder = number_of_examples[0] % k_folds\n",
    "print remainder"
   ]
  },
  {
   "cell_type": "markdown",
   "metadata": {},
   "source": [
    "### Creating a new column in dataframe called 'partition_no' and filling it with NaN"
   ]
  },
  {
   "cell_type": "code",
   "execution_count": 15,
   "metadata": {
    "collapsed": true
   },
   "outputs": [],
   "source": [
    "data['partition_no'] = np.nan"
   ]
  },
  {
   "cell_type": "markdown",
   "metadata": {},
   "source": [
    "### Generating a list of size equal to the number of examples containing randomly generated row numbers"
   ]
  },
  {
   "cell_type": "code",
   "execution_count": 16,
   "metadata": {
    "collapsed": false
   },
   "outputs": [],
   "source": [
    "row_lst = np.random.choice(number_of_examples[0], size=(1,number_of_examples[0]), replace=False).tolist()[0]\n"
   ]
  },
  {
   "cell_type": "markdown",
   "metadata": {},
   "source": [
    "### Adding a column with partition number to the data based on above calculation"
   ]
  },
  {
   "cell_type": "code",
   "execution_count": 17,
   "metadata": {
    "collapsed": false
   },
   "outputs": [],
   "source": [
    "if remainder == 0:\n",
    "    for fold in range(0, k_folds):\n",
    "        for i in range(0,number_of_examples_in_one_partition):\n",
    "            data.set_value(row_lst[0], 'partition_no', fold)\n",
    "            row_lst.pop(0)\n",
    "else:\n",
    "    for fold in range(0 , k_folds):\n",
    "        if remainder>0:\n",
    "            compensation =1\n",
    "            remainder = remainder - 1\n",
    "        else:\n",
    "            compensation =0\n",
    "            \n",
    "        for i in range(0 , number_of_examples_in_one_partition+compensation):\n",
    "            data.set_value(row_lst[0], 'partition_no', fold)\n",
    "            row_lst.pop(0)\n"
   ]
  },
  {
   "cell_type": "code",
   "execution_count": 18,
   "metadata": {
    "collapsed": false
   },
   "outputs": [
    {
     "name": "stdout",
     "output_type": "stream",
     "text": [
      "          mcg       gvh  lip  chg       aac      alm1      alm2 locsite  \\\n",
      "0    0.550562  0.154762  0.0  0.0  0.636364  0.216495  0.353535      cp   \n",
      "1    0.078652  0.285714  0.0  0.0  0.613636  0.329897  0.444444      cp   \n",
      "2    0.629213  0.285714  0.0  0.0  0.556818  0.350515  0.464646      cp   \n",
      "3    0.662921  0.392857  0.0  0.0  0.590909  0.432990  0.363636      cp   \n",
      "4    0.258427  0.190476  0.0  0.0  0.625000  0.226804  0.353535      cp   \n",
      "5    0.752809  0.273810  0.0  0.0  0.409091  0.360825  0.464646      cp   \n",
      "6    0.325843  0.142857  0.0  0.0  0.500000  0.206186  0.343434      cp   \n",
      "7    0.235955  0.214286  0.0  0.0  0.579545  0.257732  0.393939      cp   \n",
      "8    0.224719  0.333333  0.0  0.0  0.522727  0.494845  0.575758      cp   \n",
      "9    0.471910  0.285714  0.0  0.0  0.636364  0.154639  0.303030      cp   \n",
      "10   0.471910  0.095238  0.0  0.0  0.647727  0.247423  0.373737      cp   \n",
      "11   0.280899  0.380952  0.0  0.0  0.500000  0.144330  0.292929      cp   \n",
      "12   0.438202  0.190476  0.0  0.0  0.522727  0.216495  0.353535      cp   \n",
      "13   0.573034  0.404762  0.0  0.0  0.522727  0.298969  0.353535      cp   \n",
      "14   0.247191  0.321429  0.0  0.0  0.545455  0.134021  0.282828      cp   \n",
      "15   0.280899  0.285714  0.0  0.0  0.522727  0.422680  0.525253      cp   \n",
      "16   0.382022  0.345238  0.0  0.0  0.431818  0.216495  0.353535      cp   \n",
      "17   0.494382  0.130952  0.0  0.0  0.625000  0.505155  0.585859      cp   \n",
      "18   0.258427  0.285714  0.0  0.0  0.443182  0.257732  0.383838      cp   \n",
      "19   0.460674  0.488095  0.0  0.0  0.443182  0.185567  0.323232      cp   \n",
      "20   0.449438  0.345238  0.0  0.0  0.431818  0.195876  0.000000      cp   \n",
      "21   0.348315  0.083333  0.0  0.0  0.829545  0.020619  0.141414      cp   \n",
      "22   0.573034  0.452381  0.0  0.0  0.465909  0.319588  0.434343      cp   \n",
      "23   0.337079  0.000000  0.0  0.0  0.636364  0.082474  0.232323      cp   \n",
      "24   0.404494  0.273810  0.0  0.0  0.545455  0.195876  0.232323      cp   \n",
      "25   0.325843  0.250000  0.0  0.0  0.545455  0.422680  0.525253      cp   \n",
      "26   0.280899  0.285714  0.0  0.0  0.534091  0.309278  0.424242      cp   \n",
      "27   0.235955  0.416667  0.0  0.0  0.568182  0.298969  0.414141      cp   \n",
      "28   0.483146  0.250000  0.0  0.0  0.602273  0.329897  0.444444      cp   \n",
      "29   0.483146  0.273810  0.0  0.0  0.534091  0.288660  0.414141      cp   \n",
      "..        ...       ...  ...  ...       ...       ...       ...     ...   \n",
      "306  0.707865  0.654762  0.0  0.0  0.681818  0.381443  0.393939      pp   \n",
      "307  0.797753  0.833333  0.0  0.0  0.454545  0.525773  0.323232      pp   \n",
      "308  0.764045  0.738095  0.0  0.0  0.488636  0.422680  0.424242      pp   \n",
      "309  0.719101  0.809524  0.0  0.0  0.420455  0.432990  0.404040      pp   \n",
      "310  0.831461  0.369048  0.0  0.0  0.568182  0.556701  0.424242      pp   \n",
      "311  0.842697  0.809524  0.0  0.0  0.397727  0.505155  0.333333      pp   \n",
      "312  0.707865  0.583333  0.0  0.0  0.443182  0.422680  0.353535      pp   \n",
      "313  0.775281  0.607143  0.0  0.0  0.340909  0.371134  0.242424      pp   \n",
      "314  0.786517  0.654762  0.0  0.0  0.477273  0.835052  0.858586      pp   \n",
      "315  0.775281  0.761905  0.0  0.0  0.522727  0.556701  0.262626      pp   \n",
      "316  0.719101  0.595238  0.0  0.0  0.465909  0.371134  0.202020      pp   \n",
      "317  0.707865  0.761905  0.0  0.0  0.522727  0.288660  0.292929      pp   \n",
      "318  0.741573  0.654762  0.0  0.0  0.465909  0.484536  0.353535      pp   \n",
      "319  0.775281  0.511905  0.0  0.0  0.522727  0.422680  0.525253      pp   \n",
      "320  0.764045  0.607143  0.0  0.0  0.556818  0.381443  0.343434      pp   \n",
      "321  0.719101  0.738095  0.0  0.0  0.568182  0.340206  0.383838      pp   \n",
      "322  0.696629  0.738095  0.0  0.0  0.534091  0.474227  0.545455      pp   \n",
      "323  0.853933  0.678571  0.0  0.0  0.500000  0.371134  0.393939      pp   \n",
      "324  0.719101  0.773810  0.0  0.0  0.420455  0.371134  0.444444      pp   \n",
      "325  0.325843  0.273810  0.0  0.0  0.590909  0.381443  0.484848      pp   \n",
      "326  0.696629  0.797619  0.0  0.0  0.522727  0.340206  0.404040      pp   \n",
      "327  0.629213  0.452381  0.0  0.0  0.488636  0.350515  0.303030      pp   \n",
      "328  0.775281  0.595238  0.0  0.0  0.465909  0.484536  0.252525      pp   \n",
      "329  0.775281  0.583333  0.0  0.0  0.715909  0.463918  0.414141      pp   \n",
      "330  0.483146  0.511905  0.0  0.0  0.590909  0.474227  0.565657      pp   \n",
      "331  0.831461  0.476190  0.0  0.0  0.534091  0.670103  0.303030      pp   \n",
      "332  0.797753  0.488095  0.0  0.0  0.545455  0.329897  0.323232      pp   \n",
      "333  0.685393  0.523810  0.0  0.0  0.500000  0.371134  0.383838      pp   \n",
      "334  0.662921  0.535714  0.0  0.0  0.477273  0.402062  0.373737      pp   \n",
      "335  0.831461  0.690476  0.0  0.0  0.352273  0.515464  0.525253      pp   \n",
      "\n",
      "     partition_no  \n",
      "0             2.0  \n",
      "1             0.0  \n",
      "2             2.0  \n",
      "3             3.0  \n",
      "4             4.0  \n",
      "5             2.0  \n",
      "6             3.0  \n",
      "7             5.0  \n",
      "8             4.0  \n",
      "9             1.0  \n",
      "10            0.0  \n",
      "11            5.0  \n",
      "12            2.0  \n",
      "13            4.0  \n",
      "14            4.0  \n",
      "15            1.0  \n",
      "16            2.0  \n",
      "17            0.0  \n",
      "18            1.0  \n",
      "19            5.0  \n",
      "20            0.0  \n",
      "21            5.0  \n",
      "22            2.0  \n",
      "23            6.0  \n",
      "24            6.0  \n",
      "25            5.0  \n",
      "26            4.0  \n",
      "27            3.0  \n",
      "28            4.0  \n",
      "29            5.0  \n",
      "..            ...  \n",
      "306           3.0  \n",
      "307           4.0  \n",
      "308           3.0  \n",
      "309           6.0  \n",
      "310           1.0  \n",
      "311           4.0  \n",
      "312           5.0  \n",
      "313           3.0  \n",
      "314           1.0  \n",
      "315           3.0  \n",
      "316           0.0  \n",
      "317           4.0  \n",
      "318           1.0  \n",
      "319           3.0  \n",
      "320           4.0  \n",
      "321           2.0  \n",
      "322           3.0  \n",
      "323           6.0  \n",
      "324           6.0  \n",
      "325           1.0  \n",
      "326           1.0  \n",
      "327           0.0  \n",
      "328           6.0  \n",
      "329           2.0  \n",
      "330           6.0  \n",
      "331           0.0  \n",
      "332           1.0  \n",
      "333           1.0  \n",
      "334           1.0  \n",
      "335           3.0  \n",
      "\n",
      "[336 rows x 9 columns]\n"
     ]
    }
   ],
   "source": [
    "print data"
   ]
  },
  {
   "cell_type": "code",
   "execution_count": null,
   "metadata": {
    "collapsed": true
   },
   "outputs": [],
   "source": []
  }
 ],
 "metadata": {
  "kernelspec": {
   "display_name": "Python 2",
   "language": "python",
   "name": "python2"
  },
  "language_info": {
   "codemirror_mode": {
    "name": "ipython",
    "version": 2
   },
   "file_extension": ".py",
   "mimetype": "text/x-python",
   "name": "python",
   "nbconvert_exporter": "python",
   "pygments_lexer": "ipython2",
   "version": "2.7.11"
  }
 },
 "nbformat": 4,
 "nbformat_minor": 1
}
